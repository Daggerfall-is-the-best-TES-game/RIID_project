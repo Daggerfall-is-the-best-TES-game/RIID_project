{
 "cells": [
  {
   "cell_type": "markdown",
   "metadata": {
    "papermill": {
     "duration": 0.039731,
     "end_time": "2020-10-12T18:21:00.948939",
     "exception": false,
     "start_time": "2020-10-12T18:21:00.909208",
     "status": "completed"
    },
    "tags": []
   },
   "source": [
    "This is attempting to improve on my first simple LGBM model with only 3 features.\n"
   ]
  },
  {
   "cell_type": "markdown",
   "metadata": {
    "papermill": {
     "duration": 0.037907,
     "end_time": "2020-10-12T18:21:01.026434",
     "exception": false,
     "start_time": "2020-10-12T18:21:00.988527",
     "status": "completed"
    },
    "tags": []
   },
   "source": [
    "## Reading Data and Importing Libraries ##"
   ]
  },
  {
   "cell_type": "code",
   "execution_count": 1,
   "metadata": {
    "execution": {
     "iopub.execute_input": "2020-10-12T18:21:01.107461Z",
     "iopub.status.busy": "2020-10-12T18:21:01.106700Z",
     "iopub.status.idle": "2020-10-12T18:21:02.195410Z",
     "shell.execute_reply": "2020-10-12T18:21:02.194464Z"
    },
    "papermill": {
     "duration": 1.131405,
     "end_time": "2020-10-12T18:21:02.195556",
     "exception": false,
     "start_time": "2020-10-12T18:21:01.064151",
     "status": "completed"
    },
    "tags": []
   },
   "outputs": [],
   "source": [
    "import riiideducation\n",
    "# import dask.dataframe as dd\n",
    "import pandas as pd\n",
    "import numpy as np\n",
    "from sklearn.metrics import roc_auc_score\n",
    "env = riiideducation.make_env()"
   ]
  },
  {
   "cell_type": "code",
   "execution_count": 2,
   "metadata": {
    "execution": {
     "iopub.execute_input": "2020-10-12T18:21:02.285022Z",
     "iopub.status.busy": "2020-10-12T18:21:02.284191Z",
     "iopub.status.idle": "2020-10-12T18:25:48.081117Z",
     "shell.execute_reply": "2020-10-12T18:25:48.080324Z"
    },
    "papermill": {
     "duration": 285.845873,
     "end_time": "2020-10-12T18:25:48.081268",
     "exception": false,
     "start_time": "2020-10-12T18:21:02.235395",
     "status": "completed"
    },
    "tags": []
   },
   "outputs": [],
   "source": [
    "train = pd.read_csv('/kaggle/input/riiid-test-answer-prediction/train.csv',\n",
    "                   usecols=[1, 2, 3, 4, 7, 8, 9],\n",
    "                   dtype={'timestamp': 'int64',\n",
    "                          'user_id': 'int32',\n",
    "                          'content_id': 'int16',\n",
    "                          'content_type_id': 'int8',\n",
    "                          'answered_correctly':'int8',\n",
    "                          'prior_question_elapsed_time': 'float32',\n",
    "                          'prior_question_had_explanation': 'boolean'}\n",
    "                   )"
   ]
  },
  {
   "cell_type": "markdown",
   "metadata": {
    "papermill": {
     "duration": 0.037404,
     "end_time": "2020-10-12T18:25:48.156709",
     "exception": false,
     "start_time": "2020-10-12T18:25:48.119305",
     "status": "completed"
    },
    "tags": []
   },
   "source": [
    "Affirmatives (True) for content_type_id are only for those with a different type of content (lectures). These are not real questions."
   ]
  },
  {
   "cell_type": "code",
   "execution_count": 3,
   "metadata": {
    "execution": {
     "iopub.execute_input": "2020-10-12T18:25:48.241725Z",
     "iopub.status.busy": "2020-10-12T18:25:48.240900Z",
     "iopub.status.idle": "2020-10-12T18:26:19.790644Z",
     "shell.execute_reply": "2020-10-12T18:26:19.791297Z"
    },
    "papermill": {
     "duration": 31.596753,
     "end_time": "2020-10-12T18:26:19.791475",
     "exception": false,
     "start_time": "2020-10-12T18:25:48.194722",
     "status": "completed"
    },
    "tags": []
   },
   "outputs": [
    {
     "data": {
      "text/html": [
       "<div>\n",
       "<style scoped>\n",
       "    .dataframe tbody tr th:only-of-type {\n",
       "        vertical-align: middle;\n",
       "    }\n",
       "\n",
       "    .dataframe tbody tr th {\n",
       "        vertical-align: top;\n",
       "    }\n",
       "\n",
       "    .dataframe thead th {\n",
       "        text-align: right;\n",
       "    }\n",
       "</style>\n",
       "<table border=\"1\" class=\"dataframe\">\n",
       "  <thead>\n",
       "    <tr style=\"text-align: right;\">\n",
       "      <th></th>\n",
       "      <th>timestamp</th>\n",
       "      <th>user_id</th>\n",
       "      <th>content_id</th>\n",
       "      <th>content_type_id</th>\n",
       "      <th>answered_correctly</th>\n",
       "      <th>prior_question_elapsed_time</th>\n",
       "      <th>prior_question_had_explanation</th>\n",
       "    </tr>\n",
       "  </thead>\n",
       "  <tbody>\n",
       "    <tr>\n",
       "      <th>0</th>\n",
       "      <td>0</td>\n",
       "      <td>115</td>\n",
       "      <td>5692</td>\n",
       "      <td>0</td>\n",
       "      <td>1</td>\n",
       "      <td>NaN</td>\n",
       "      <td>&lt;NA&gt;</td>\n",
       "    </tr>\n",
       "    <tr>\n",
       "      <th>1</th>\n",
       "      <td>0</td>\n",
       "      <td>1805962620</td>\n",
       "      <td>5547</td>\n",
       "      <td>0</td>\n",
       "      <td>0</td>\n",
       "      <td>NaN</td>\n",
       "      <td>&lt;NA&gt;</td>\n",
       "    </tr>\n",
       "    <tr>\n",
       "      <th>2</th>\n",
       "      <td>0</td>\n",
       "      <td>2015251289</td>\n",
       "      <td>4024</td>\n",
       "      <td>0</td>\n",
       "      <td>1</td>\n",
       "      <td>NaN</td>\n",
       "      <td>&lt;NA&gt;</td>\n",
       "    </tr>\n",
       "    <tr>\n",
       "      <th>3</th>\n",
       "      <td>0</td>\n",
       "      <td>867941388</td>\n",
       "      <td>6659</td>\n",
       "      <td>0</td>\n",
       "      <td>1</td>\n",
       "      <td>NaN</td>\n",
       "      <td>&lt;NA&gt;</td>\n",
       "    </tr>\n",
       "    <tr>\n",
       "      <th>4</th>\n",
       "      <td>0</td>\n",
       "      <td>867946278</td>\n",
       "      <td>3977</td>\n",
       "      <td>0</td>\n",
       "      <td>1</td>\n",
       "      <td>NaN</td>\n",
       "      <td>&lt;NA&gt;</td>\n",
       "    </tr>\n",
       "    <tr>\n",
       "      <th>5</th>\n",
       "      <td>0</td>\n",
       "      <td>867947333</td>\n",
       "      <td>7900</td>\n",
       "      <td>0</td>\n",
       "      <td>1</td>\n",
       "      <td>NaN</td>\n",
       "      <td>&lt;NA&gt;</td>\n",
       "    </tr>\n",
       "    <tr>\n",
       "      <th>6</th>\n",
       "      <td>0</td>\n",
       "      <td>1440786713</td>\n",
       "      <td>3889</td>\n",
       "      <td>0</td>\n",
       "      <td>1</td>\n",
       "      <td>NaN</td>\n",
       "      <td>&lt;NA&gt;</td>\n",
       "    </tr>\n",
       "    <tr>\n",
       "      <th>7</th>\n",
       "      <td>0</td>\n",
       "      <td>1805972720</td>\n",
       "      <td>5796</td>\n",
       "      <td>0</td>\n",
       "      <td>0</td>\n",
       "      <td>NaN</td>\n",
       "      <td>&lt;NA&gt;</td>\n",
       "    </tr>\n",
       "    <tr>\n",
       "      <th>8</th>\n",
       "      <td>0</td>\n",
       "      <td>579725075</td>\n",
       "      <td>7900</td>\n",
       "      <td>0</td>\n",
       "      <td>1</td>\n",
       "      <td>NaN</td>\n",
       "      <td>&lt;NA&gt;</td>\n",
       "    </tr>\n",
       "    <tr>\n",
       "      <th>9</th>\n",
       "      <td>0</td>\n",
       "      <td>390617956</td>\n",
       "      <td>4867</td>\n",
       "      <td>0</td>\n",
       "      <td>1</td>\n",
       "      <td>NaN</td>\n",
       "      <td>&lt;NA&gt;</td>\n",
       "    </tr>\n",
       "  </tbody>\n",
       "</table>\n",
       "</div>"
      ],
      "text/plain": [
       "   timestamp     user_id  content_id  content_type_id  answered_correctly  \\\n",
       "0          0         115        5692                0                   1   \n",
       "1          0  1805962620        5547                0                   0   \n",
       "2          0  2015251289        4024                0                   1   \n",
       "3          0   867941388        6659                0                   1   \n",
       "4          0   867946278        3977                0                   1   \n",
       "5          0   867947333        7900                0                   1   \n",
       "6          0  1440786713        3889                0                   1   \n",
       "7          0  1805972720        5796                0                   0   \n",
       "8          0   579725075        7900                0                   1   \n",
       "9          0   390617956        4867                0                   1   \n",
       "\n",
       "   prior_question_elapsed_time  prior_question_had_explanation  \n",
       "0                          NaN                            <NA>  \n",
       "1                          NaN                            <NA>  \n",
       "2                          NaN                            <NA>  \n",
       "3                          NaN                            <NA>  \n",
       "4                          NaN                            <NA>  \n",
       "5                          NaN                            <NA>  \n",
       "6                          NaN                            <NA>  \n",
       "7                          NaN                            <NA>  \n",
       "8                          NaN                            <NA>  \n",
       "9                          NaN                            <NA>  "
      ]
     },
     "execution_count": 3,
     "metadata": {},
     "output_type": "execute_result"
    }
   ],
   "source": [
    "#removing True or 1 for content_type_id\n",
    "\n",
    "train = train[train.content_type_id == False]\n",
    "\n",
    "#arrange by timestamp\n",
    "\n",
    "train = train.sort_values(['timestamp'], ascending=True).reset_index(drop = True)\n",
    "\n",
    "train.head(10)"
   ]
  },
  {
   "cell_type": "code",
   "execution_count": 4,
   "metadata": {
    "execution": {
     "iopub.execute_input": "2020-10-12T18:26:20.626264Z",
     "iopub.status.busy": "2020-10-12T18:26:20.308415Z",
     "iopub.status.idle": "2020-10-12T18:26:31.833130Z",
     "shell.execute_reply": "2020-10-12T18:26:31.832464Z"
    },
    "papermill": {
     "duration": 12.002989,
     "end_time": "2020-10-12T18:26:31.833263",
     "exception": false,
     "start_time": "2020-10-12T18:26:19.830274",
     "status": "completed"
    },
    "tags": []
   },
   "outputs": [],
   "source": [
    "#getting final results ready for later, so we can clear memory\n",
    "results_c_final = train[['content_id','answered_correctly']].groupby(['content_id']).agg(['mean'])\n",
    "results_c_final.columns = [\"answered_correctly_content\"]\n",
    "\n",
    "results_u_final = train[['user_id','answered_correctly']].groupby(['user_id']).agg(['mean', 'sum', 'count'])\n",
    "results_u_final.columns = ['answered_correctly_user', 'sum', 'count']"
   ]
  },
  {
   "cell_type": "code",
   "execution_count": 5,
   "metadata": {
    "execution": {
     "iopub.execute_input": "2020-10-12T18:26:31.919888Z",
     "iopub.status.busy": "2020-10-12T18:26:31.919133Z",
     "iopub.status.idle": "2020-10-12T18:26:32.077880Z",
     "shell.execute_reply": "2020-10-12T18:26:32.077230Z"
    },
    "papermill": {
     "duration": 0.206289,
     "end_time": "2020-10-12T18:26:32.078001",
     "exception": false,
     "start_time": "2020-10-12T18:26:31.871712",
     "status": "completed"
    },
    "tags": []
   },
   "outputs": [],
   "source": [
    "#saving value to fillna\n",
    "elapsed_mean = train.prior_question_elapsed_time.mean()"
   ]
  },
  {
   "cell_type": "markdown",
   "metadata": {
    "papermill": {
     "duration": 0.039028,
     "end_time": "2020-10-12T18:26:32.155813",
     "exception": false,
     "start_time": "2020-10-12T18:26:32.116785",
     "status": "completed"
    },
    "tags": []
   },
   "source": [
    "## Data Exploration ##"
   ]
  },
  {
   "cell_type": "code",
   "execution_count": 6,
   "metadata": {
    "execution": {
     "iopub.execute_input": "2020-10-12T18:26:32.260762Z",
     "iopub.status.busy": "2020-10-12T18:26:32.259581Z",
     "iopub.status.idle": "2020-10-12T18:26:32.624307Z",
     "shell.execute_reply": "2020-10-12T18:26:32.623532Z"
    },
    "papermill": {
     "duration": 0.429622,
     "end_time": "2020-10-12T18:26:32.624432",
     "exception": false,
     "start_time": "2020-10-12T18:26:32.194810",
     "status": "completed"
    },
    "tags": []
   },
   "outputs": [
    {
     "data": {
      "text/plain": [
       "0.6787809364253148"
      ]
     },
     "execution_count": 6,
     "metadata": {},
     "output_type": "execute_result"
    }
   ],
   "source": [
    "train.loc[(train.timestamp == 0)].answered_correctly.mean()"
   ]
  },
  {
   "cell_type": "code",
   "execution_count": 7,
   "metadata": {
    "execution": {
     "iopub.execute_input": "2020-10-12T18:26:32.757509Z",
     "iopub.status.busy": "2020-10-12T18:26:32.750883Z",
     "iopub.status.idle": "2020-10-12T18:26:37.512992Z",
     "shell.execute_reply": "2020-10-12T18:26:37.512349Z"
    },
    "papermill": {
     "duration": 4.845714,
     "end_time": "2020-10-12T18:26:37.513148",
     "exception": false,
     "start_time": "2020-10-12T18:26:32.667434",
     "status": "completed"
    },
    "tags": []
   },
   "outputs": [
    {
     "data": {
      "text/plain": [
       "0.6571491814363561"
      ]
     },
     "execution_count": 7,
     "metadata": {},
     "output_type": "execute_result"
    }
   ],
   "source": [
    "train.loc[(train.timestamp != 0)].answered_correctly.mean()"
   ]
  },
  {
   "cell_type": "code",
   "execution_count": 8,
   "metadata": {
    "execution": {
     "iopub.execute_input": "2020-10-12T18:26:37.611643Z",
     "iopub.status.busy": "2020-10-12T18:26:37.610491Z",
     "iopub.status.idle": "2020-10-12T18:26:38.161466Z",
     "shell.execute_reply": "2020-10-12T18:26:38.160820Z"
    },
    "papermill": {
     "duration": 0.607909,
     "end_time": "2020-10-12T18:26:38.161600",
     "exception": false,
     "start_time": "2020-10-12T18:26:37.553691",
     "status": "completed"
    },
    "tags": []
   },
   "outputs": [
    {
     "data": {
      "text/plain": [
       "0.4760203372564661"
      ]
     },
     "execution_count": 8,
     "metadata": {},
     "output_type": "execute_result"
    }
   ],
   "source": [
    "train.loc[(train.timestamp < 1000000) & (train.timestamp > 0)].answered_correctly.mean()"
   ]
  },
  {
   "cell_type": "markdown",
   "metadata": {
    "papermill": {
     "duration": 0.040342,
     "end_time": "2020-10-12T18:26:38.242889",
     "exception": false,
     "start_time": "2020-10-12T18:26:38.202547",
     "status": "completed"
    },
    "tags": []
   },
   "source": [
    "Are early questions fundamentally different? The best answer I could get was: not really"
   ]
  },
  {
   "cell_type": "code",
   "execution_count": 9,
   "metadata": {
    "execution": {
     "iopub.execute_input": "2020-10-12T18:26:38.329526Z",
     "iopub.status.busy": "2020-10-12T18:26:38.328709Z",
     "iopub.status.idle": "2020-10-12T18:27:07.221997Z",
     "shell.execute_reply": "2020-10-12T18:27:07.221206Z"
    },
    "papermill": {
     "duration": 28.938791,
     "end_time": "2020-10-12T18:27:07.222150",
     "exception": false,
     "start_time": "2020-10-12T18:26:38.283359",
     "status": "completed"
    },
    "tags": []
   },
   "outputs": [
    {
     "data": {
      "text/plain": [
       "True     89685560\n",
       "False     9193234\n",
       "Name: prior_question_had_explanation, dtype: Int64"
      ]
     },
     "execution_count": 9,
     "metadata": {},
     "output_type": "execute_result"
    }
   ],
   "source": [
    "train.prior_question_had_explanation.value_counts()"
   ]
  },
  {
   "cell_type": "code",
   "execution_count": 10,
   "metadata": {
    "execution": {
     "iopub.execute_input": "2020-10-12T18:27:07.310239Z",
     "iopub.status.busy": "2020-10-12T18:27:07.308177Z",
     "iopub.status.idle": "2020-10-12T18:27:07.394763Z",
     "shell.execute_reply": "2020-10-12T18:27:07.394021Z"
    },
    "papermill": {
     "duration": 0.131217,
     "end_time": "2020-10-12T18:27:07.394887",
     "exception": false,
     "start_time": "2020-10-12T18:27:07.263670",
     "status": "completed"
    },
    "tags": []
   },
   "outputs": [
    {
     "data": {
      "text/plain": [
       "0.6572355454194717"
      ]
     },
     "execution_count": 10,
     "metadata": {},
     "output_type": "execute_result"
    }
   ],
   "source": [
    "train.answered_correctly.mean()"
   ]
  },
  {
   "cell_type": "code",
   "execution_count": 11,
   "metadata": {
    "execution": {
     "iopub.execute_input": "2020-10-12T18:27:08.734571Z",
     "iopub.status.busy": "2020-10-12T18:27:08.732860Z",
     "iopub.status.idle": "2020-10-12T18:27:08.736234Z",
     "shell.execute_reply": "2020-10-12T18:27:08.737419Z"
    },
    "papermill": {
     "duration": 1.301032,
     "end_time": "2020-10-12T18:27:08.737935",
     "exception": false,
     "start_time": "2020-10-12T18:27:07.436903",
     "status": "completed"
    },
    "tags": []
   },
   "outputs": [],
   "source": [
    "train.drop(['timestamp', 'content_type_id'], axis=1, inplace=True)"
   ]
  },
  {
   "cell_type": "markdown",
   "metadata": {
    "papermill": {
     "duration": 0.048711,
     "end_time": "2020-10-12T18:27:08.832904",
     "exception": false,
     "start_time": "2020-10-12T18:27:08.784193",
     "status": "completed"
    },
    "tags": []
   },
   "source": [
    "## Creating Validation Set (Most Recent Answers by User) ##"
   ]
  },
  {
   "cell_type": "code",
   "execution_count": 12,
   "metadata": {
    "execution": {
     "iopub.execute_input": "2020-10-12T18:27:08.929743Z",
     "iopub.status.busy": "2020-10-12T18:27:08.928671Z",
     "iopub.status.idle": "2020-10-12T18:27:08.932368Z",
     "shell.execute_reply": "2020-10-12T18:27:08.931579Z"
    },
    "papermill": {
     "duration": 0.056911,
     "end_time": "2020-10-12T18:27:08.932534",
     "exception": false,
     "start_time": "2020-10-12T18:27:08.875623",
     "status": "completed"
    },
    "tags": []
   },
   "outputs": [],
   "source": [
    "validation = pd.DataFrame()"
   ]
  },
  {
   "cell_type": "code",
   "execution_count": 13,
   "metadata": {
    "execution": {
     "iopub.execute_input": "2020-10-12T18:27:09.036303Z",
     "iopub.status.busy": "2020-10-12T18:27:09.035441Z",
     "iopub.status.idle": "2020-10-12T18:28:13.121653Z",
     "shell.execute_reply": "2020-10-12T18:28:13.120660Z"
    },
    "papermill": {
     "duration": 64.145654,
     "end_time": "2020-10-12T18:28:13.121876",
     "exception": false,
     "start_time": "2020-10-12T18:27:08.976222",
     "status": "completed"
    },
    "tags": []
   },
   "outputs": [],
   "source": [
    "for i in range(4):\n",
    "    last_records = train.drop_duplicates('user_id', keep = 'last')\n",
    "    train = train[~train.index.isin(last_records.index)]\n",
    "    validation = validation.append(last_records)"
   ]
  },
  {
   "cell_type": "code",
   "execution_count": 14,
   "metadata": {
    "execution": {
     "iopub.execute_input": "2020-10-12T18:28:13.216083Z",
     "iopub.status.busy": "2020-10-12T18:28:13.215140Z",
     "iopub.status.idle": "2020-10-12T18:28:13.219986Z",
     "shell.execute_reply": "2020-10-12T18:28:13.219401Z"
    },
    "papermill": {
     "duration": 0.053557,
     "end_time": "2020-10-12T18:28:13.220134",
     "exception": false,
     "start_time": "2020-10-12T18:28:13.166577",
     "status": "completed"
    },
    "tags": []
   },
   "outputs": [
    {
     "data": {
      "text/plain": [
       "97697098"
      ]
     },
     "execution_count": 14,
     "metadata": {},
     "output_type": "execute_result"
    }
   ],
   "source": [
    "len(train)"
   ]
  },
  {
   "cell_type": "code",
   "execution_count": 15,
   "metadata": {
    "execution": {
     "iopub.execute_input": "2020-10-12T18:28:13.313078Z",
     "iopub.status.busy": "2020-10-12T18:28:13.312177Z",
     "iopub.status.idle": "2020-10-12T18:28:13.316152Z",
     "shell.execute_reply": "2020-10-12T18:28:13.316702Z"
    },
    "papermill": {
     "duration": 0.05385,
     "end_time": "2020-10-12T18:28:13.316870",
     "exception": false,
     "start_time": "2020-10-12T18:28:13.263020",
     "status": "completed"
    },
    "tags": []
   },
   "outputs": [
    {
     "data": {
      "text/plain": [
       "1574202"
      ]
     },
     "execution_count": 15,
     "metadata": {},
     "output_type": "execute_result"
    }
   ],
   "source": [
    "len(validation)"
   ]
  },
  {
   "cell_type": "code",
   "execution_count": 16,
   "metadata": {
    "execution": {
     "iopub.execute_input": "2020-10-12T18:28:13.410525Z",
     "iopub.status.busy": "2020-10-12T18:28:13.409376Z",
     "iopub.status.idle": "2020-10-12T18:28:13.417853Z",
     "shell.execute_reply": "2020-10-12T18:28:13.417073Z"
    },
    "papermill": {
     "duration": 0.057643,
     "end_time": "2020-10-12T18:28:13.417980",
     "exception": false,
     "start_time": "2020-10-12T18:28:13.360337",
     "status": "completed"
    },
    "tags": []
   },
   "outputs": [
    {
     "data": {
      "text/plain": [
       "0.5335192052862339"
      ]
     },
     "execution_count": 16,
     "metadata": {},
     "output_type": "execute_result"
    }
   ],
   "source": [
    "validation.answered_correctly.mean()"
   ]
  },
  {
   "cell_type": "code",
   "execution_count": 17,
   "metadata": {
    "execution": {
     "iopub.execute_input": "2020-10-12T18:28:13.513264Z",
     "iopub.status.busy": "2020-10-12T18:28:13.512081Z",
     "iopub.status.idle": "2020-10-12T18:28:13.594245Z",
     "shell.execute_reply": "2020-10-12T18:28:13.593489Z"
    },
    "papermill": {
     "duration": 0.132082,
     "end_time": "2020-10-12T18:28:13.594370",
     "exception": false,
     "start_time": "2020-10-12T18:28:13.462288",
     "status": "completed"
    },
    "tags": []
   },
   "outputs": [
    {
     "data": {
      "text/plain": [
       "0.6592289977743249"
      ]
     },
     "execution_count": 17,
     "metadata": {},
     "output_type": "execute_result"
    }
   ],
   "source": [
    "train.answered_correctly.mean()"
   ]
  },
  {
   "cell_type": "markdown",
   "metadata": {
    "papermill": {
     "duration": 0.044235,
     "end_time": "2020-10-12T18:28:13.683373",
     "exception": false,
     "start_time": "2020-10-12T18:28:13.639138",
     "status": "completed"
    },
    "tags": []
   },
   "source": [
    "Does it make sense to use last questions as validation? Why is the rate of correct answers so low?"
   ]
  },
  {
   "cell_type": "markdown",
   "metadata": {
    "papermill": {
     "duration": 0.044081,
     "end_time": "2020-10-12T18:28:13.772099",
     "exception": false,
     "start_time": "2020-10-12T18:28:13.728018",
     "status": "completed"
    },
    "tags": []
   },
   "source": [
    "## Extracting Training Data ##"
   ]
  },
  {
   "cell_type": "code",
   "execution_count": 18,
   "metadata": {
    "execution": {
     "iopub.execute_input": "2020-10-12T18:28:13.875473Z",
     "iopub.status.busy": "2020-10-12T18:28:13.874464Z",
     "iopub.status.idle": "2020-10-12T18:28:13.878107Z",
     "shell.execute_reply": "2020-10-12T18:28:13.877439Z"
    },
    "papermill": {
     "duration": 0.061585,
     "end_time": "2020-10-12T18:28:13.878273",
     "exception": false,
     "start_time": "2020-10-12T18:28:13.816688",
     "status": "completed"
    },
    "tags": []
   },
   "outputs": [],
   "source": [
    "X = pd.DataFrame()"
   ]
  },
  {
   "cell_type": "code",
   "execution_count": 19,
   "metadata": {
    "execution": {
     "iopub.execute_input": "2020-10-12T18:28:13.998751Z",
     "iopub.status.busy": "2020-10-12T18:28:13.997198Z",
     "iopub.status.idle": "2020-10-12T18:31:52.281664Z",
     "shell.execute_reply": "2020-10-12T18:31:52.280775Z"
    },
    "papermill": {
     "duration": 218.352019,
     "end_time": "2020-10-12T18:31:52.281836",
     "exception": false,
     "start_time": "2020-10-12T18:28:13.929817",
     "status": "completed"
    },
    "tags": []
   },
   "outputs": [],
   "source": [
    "for i in range(15):\n",
    "    last_records = train.drop_duplicates('user_id', keep = 'last')\n",
    "    train = train[~train.index.isin(last_records.index)]\n",
    "    X = X.append(last_records)"
   ]
  },
  {
   "cell_type": "code",
   "execution_count": 20,
   "metadata": {
    "execution": {
     "iopub.execute_input": "2020-10-12T18:31:52.379541Z",
     "iopub.status.busy": "2020-10-12T18:31:52.378714Z",
     "iopub.status.idle": "2020-10-12T18:31:52.383607Z",
     "shell.execute_reply": "2020-10-12T18:31:52.382980Z"
    },
    "papermill": {
     "duration": 0.05587,
     "end_time": "2020-10-12T18:31:52.383731",
     "exception": false,
     "start_time": "2020-10-12T18:31:52.327861",
     "status": "completed"
    },
    "tags": []
   },
   "outputs": [
    {
     "data": {
      "text/plain": [
       "5688652"
      ]
     },
     "execution_count": 20,
     "metadata": {},
     "output_type": "execute_result"
    }
   ],
   "source": [
    "len(X)"
   ]
  },
  {
   "cell_type": "code",
   "execution_count": 21,
   "metadata": {
    "execution": {
     "iopub.execute_input": "2020-10-12T18:31:52.481331Z",
     "iopub.status.busy": "2020-10-12T18:31:52.480418Z",
     "iopub.status.idle": "2020-10-12T18:31:52.485619Z",
     "shell.execute_reply": "2020-10-12T18:31:52.485009Z"
    },
    "papermill": {
     "duration": 0.056262,
     "end_time": "2020-10-12T18:31:52.485747",
     "exception": false,
     "start_time": "2020-10-12T18:31:52.429485",
     "status": "completed"
    },
    "tags": []
   },
   "outputs": [
    {
     "data": {
      "text/plain": [
       "92008446"
      ]
     },
     "execution_count": 21,
     "metadata": {},
     "output_type": "execute_result"
    }
   ],
   "source": [
    "len(train)"
   ]
  },
  {
   "cell_type": "code",
   "execution_count": 22,
   "metadata": {
    "execution": {
     "iopub.execute_input": "2020-10-12T18:31:52.584795Z",
     "iopub.status.busy": "2020-10-12T18:31:52.583812Z",
     "iopub.status.idle": "2020-10-12T18:31:52.594257Z",
     "shell.execute_reply": "2020-10-12T18:31:52.593490Z"
    },
    "papermill": {
     "duration": 0.062063,
     "end_time": "2020-10-12T18:31:52.594387",
     "exception": false,
     "start_time": "2020-10-12T18:31:52.532324",
     "status": "completed"
    },
    "tags": []
   },
   "outputs": [
    {
     "data": {
      "text/plain": [
       "0.5565163768147533"
      ]
     },
     "execution_count": 22,
     "metadata": {},
     "output_type": "execute_result"
    }
   ],
   "source": [
    "X.answered_correctly.mean()"
   ]
  },
  {
   "cell_type": "code",
   "execution_count": 23,
   "metadata": {
    "execution": {
     "iopub.execute_input": "2020-10-12T18:31:52.696301Z",
     "iopub.status.busy": "2020-10-12T18:31:52.695096Z",
     "iopub.status.idle": "2020-10-12T18:31:52.772666Z",
     "shell.execute_reply": "2020-10-12T18:31:52.771894Z"
    },
    "papermill": {
     "duration": 0.130681,
     "end_time": "2020-10-12T18:31:52.772789",
     "exception": false,
     "start_time": "2020-10-12T18:31:52.642108",
     "status": "completed"
    },
    "tags": []
   },
   "outputs": [
    {
     "data": {
      "text/plain": [
       "0.6655794621289441"
      ]
     },
     "execution_count": 23,
     "metadata": {},
     "output_type": "execute_result"
    }
   ],
   "source": [
    "train.answered_correctly.mean()"
   ]
  },
  {
   "cell_type": "markdown",
   "metadata": {
    "papermill": {
     "duration": 0.047196,
     "end_time": "2020-10-12T18:31:52.867505",
     "exception": false,
     "start_time": "2020-10-12T18:31:52.820309",
     "status": "completed"
    },
    "tags": []
   },
   "source": [
    "## Aggregating and Shaping Data ##"
   ]
  },
  {
   "cell_type": "code",
   "execution_count": 24,
   "metadata": {
    "execution": {
     "iopub.execute_input": "2020-10-12T18:31:53.900091Z",
     "iopub.status.busy": "2020-10-12T18:31:53.311855Z",
     "iopub.status.idle": "2020-10-12T18:32:13.925306Z",
     "shell.execute_reply": "2020-10-12T18:32:13.925855Z"
    },
    "papermill": {
     "duration": 21.010579,
     "end_time": "2020-10-12T18:32:13.926064",
     "exception": false,
     "start_time": "2020-10-12T18:31:52.915485",
     "status": "completed"
    },
    "tags": []
   },
   "outputs": [],
   "source": [
    "results_c = train[['content_id','answered_correctly']].groupby(['content_id']).agg(['mean'])\n",
    "results_c.columns = [\"answered_correctly_content\"]\n",
    "\n",
    "results_u = train[['user_id','answered_correctly']].groupby(['user_id']).agg(['mean', 'sum', 'count'])\n",
    "results_u.columns = [\"answered_correctly_user\", 'sum', 'count']"
   ]
  },
  {
   "cell_type": "code",
   "execution_count": 25,
   "metadata": {
    "execution": {
     "iopub.execute_input": "2020-10-12T18:32:14.111779Z",
     "iopub.status.busy": "2020-10-12T18:32:14.111008Z",
     "iopub.status.idle": "2020-10-12T18:32:14.114705Z",
     "shell.execute_reply": "2020-10-12T18:32:14.113988Z"
    },
    "papermill": {
     "duration": 0.140754,
     "end_time": "2020-10-12T18:32:14.114875",
     "exception": false,
     "start_time": "2020-10-12T18:32:13.974121",
     "status": "completed"
    },
    "tags": []
   },
   "outputs": [],
   "source": [
    "#clearing memory\n",
    "del(train)\n"
   ]
  },
  {
   "cell_type": "code",
   "execution_count": 26,
   "metadata": {
    "execution": {
     "iopub.execute_input": "2020-10-12T18:32:14.220778Z",
     "iopub.status.busy": "2020-10-12T18:32:14.219999Z",
     "iopub.status.idle": "2020-10-12T18:32:16.464057Z",
     "shell.execute_reply": "2020-10-12T18:32:16.463405Z"
    },
    "papermill": {
     "duration": 2.299638,
     "end_time": "2020-10-12T18:32:16.464183",
     "exception": false,
     "start_time": "2020-10-12T18:32:14.164545",
     "status": "completed"
    },
    "tags": []
   },
   "outputs": [],
   "source": [
    "X = pd.merge(X, results_u, on=['user_id'], how=\"left\")\n",
    "X = pd.merge(X, results_c_final, on=['content_id'], how=\"left\")"
   ]
  },
  {
   "cell_type": "code",
   "execution_count": 27,
   "metadata": {
    "execution": {
     "iopub.execute_input": "2020-10-12T18:32:16.568204Z",
     "iopub.status.busy": "2020-10-12T18:32:16.567414Z",
     "iopub.status.idle": "2020-10-12T18:32:17.183223Z",
     "shell.execute_reply": "2020-10-12T18:32:17.182411Z"
    },
    "papermill": {
     "duration": 0.670384,
     "end_time": "2020-10-12T18:32:17.183353",
     "exception": false,
     "start_time": "2020-10-12T18:32:16.512969",
     "status": "completed"
    },
    "tags": []
   },
   "outputs": [],
   "source": [
    "validation = pd.merge(validation, results_u, on=['user_id'], how=\"left\")\n",
    "validation = pd.merge(validation, results_c_final, on=['content_id'], how=\"left\")"
   ]
  },
  {
   "cell_type": "code",
   "execution_count": 28,
   "metadata": {
    "execution": {
     "iopub.execute_input": "2020-10-12T18:32:17.288968Z",
     "iopub.status.busy": "2020-10-12T18:32:17.288190Z",
     "iopub.status.idle": "2020-10-12T18:32:20.122331Z",
     "shell.execute_reply": "2020-10-12T18:32:20.121576Z"
    },
    "papermill": {
     "duration": 2.890591,
     "end_time": "2020-10-12T18:32:20.122459",
     "exception": false,
     "start_time": "2020-10-12T18:32:17.231868",
     "status": "completed"
    },
    "tags": []
   },
   "outputs": [
    {
     "data": {
      "text/html": [
       "<div>\n",
       "<style scoped>\n",
       "    .dataframe tbody tr th:only-of-type {\n",
       "        vertical-align: middle;\n",
       "    }\n",
       "\n",
       "    .dataframe tbody tr th {\n",
       "        vertical-align: top;\n",
       "    }\n",
       "\n",
       "    .dataframe thead th {\n",
       "        text-align: right;\n",
       "    }\n",
       "</style>\n",
       "<table border=\"1\" class=\"dataframe\">\n",
       "  <thead>\n",
       "    <tr style=\"text-align: right;\">\n",
       "      <th></th>\n",
       "      <th>user_id</th>\n",
       "      <th>content_id</th>\n",
       "      <th>answered_correctly</th>\n",
       "      <th>prior_question_elapsed_time</th>\n",
       "      <th>prior_question_had_explanation</th>\n",
       "      <th>answered_correctly_user</th>\n",
       "      <th>sum</th>\n",
       "      <th>count</th>\n",
       "      <th>answered_correctly_content</th>\n",
       "      <th>prior_question_had_explanation_enc</th>\n",
       "    </tr>\n",
       "  </thead>\n",
       "  <tbody>\n",
       "    <tr>\n",
       "      <th>0</th>\n",
       "      <td>888540983</td>\n",
       "      <td>6269</td>\n",
       "      <td>1</td>\n",
       "      <td>NaN</td>\n",
       "      <td>False</td>\n",
       "      <td>NaN</td>\n",
       "      <td>NaN</td>\n",
       "      <td>NaN</td>\n",
       "      <td>0.821711</td>\n",
       "      <td>0</td>\n",
       "    </tr>\n",
       "    <tr>\n",
       "      <th>1</th>\n",
       "      <td>1418755930</td>\n",
       "      <td>5314</td>\n",
       "      <td>1</td>\n",
       "      <td>NaN</td>\n",
       "      <td>False</td>\n",
       "      <td>NaN</td>\n",
       "      <td>NaN</td>\n",
       "      <td>NaN</td>\n",
       "      <td>0.783144</td>\n",
       "      <td>0</td>\n",
       "    </tr>\n",
       "    <tr>\n",
       "      <th>2</th>\n",
       "      <td>2004252207</td>\n",
       "      <td>128</td>\n",
       "      <td>1</td>\n",
       "      <td>NaN</td>\n",
       "      <td>False</td>\n",
       "      <td>NaN</td>\n",
       "      <td>NaN</td>\n",
       "      <td>NaN</td>\n",
       "      <td>0.966869</td>\n",
       "      <td>0</td>\n",
       "    </tr>\n",
       "    <tr>\n",
       "      <th>3</th>\n",
       "      <td>825864574</td>\n",
       "      <td>8440</td>\n",
       "      <td>1</td>\n",
       "      <td>NaN</td>\n",
       "      <td>False</td>\n",
       "      <td>NaN</td>\n",
       "      <td>NaN</td>\n",
       "      <td>NaN</td>\n",
       "      <td>0.953749</td>\n",
       "      <td>0</td>\n",
       "    </tr>\n",
       "    <tr>\n",
       "      <th>4</th>\n",
       "      <td>1646232520</td>\n",
       "      <td>4357</td>\n",
       "      <td>1</td>\n",
       "      <td>NaN</td>\n",
       "      <td>False</td>\n",
       "      <td>NaN</td>\n",
       "      <td>NaN</td>\n",
       "      <td>NaN</td>\n",
       "      <td>0.764535</td>\n",
       "      <td>0</td>\n",
       "    </tr>\n",
       "  </tbody>\n",
       "</table>\n",
       "</div>"
      ],
      "text/plain": [
       "      user_id  content_id  answered_correctly  prior_question_elapsed_time  \\\n",
       "0   888540983        6269                   1                          NaN   \n",
       "1  1418755930        5314                   1                          NaN   \n",
       "2  2004252207         128                   1                          NaN   \n",
       "3   825864574        8440                   1                          NaN   \n",
       "4  1646232520        4357                   1                          NaN   \n",
       "\n",
       "   prior_question_had_explanation  answered_correctly_user  sum  count  \\\n",
       "0                           False                      NaN  NaN    NaN   \n",
       "1                           False                      NaN  NaN    NaN   \n",
       "2                           False                      NaN  NaN    NaN   \n",
       "3                           False                      NaN  NaN    NaN   \n",
       "4                           False                      NaN  NaN    NaN   \n",
       "\n",
       "   answered_correctly_content  prior_question_had_explanation_enc  \n",
       "0                    0.821711                                   0  \n",
       "1                    0.783144                                   0  \n",
       "2                    0.966869                                   0  \n",
       "3                    0.953749                                   0  \n",
       "4                    0.764535                                   0  "
      ]
     },
     "execution_count": 28,
     "metadata": {},
     "output_type": "execute_result"
    }
   ],
   "source": [
    "from sklearn.preprocessing import LabelEncoder\n",
    "\n",
    "lb_make = LabelEncoder()\n",
    "\n",
    "X.prior_question_had_explanation.fillna(False, inplace = True)\n",
    "validation.prior_question_had_explanation.fillna(False, inplace = True)\n",
    "\n",
    "validation[\"prior_question_had_explanation_enc\"] = lb_make.fit_transform(validation[\"prior_question_had_explanation\"])\n",
    "X[\"prior_question_had_explanation_enc\"] = lb_make.fit_transform(X[\"prior_question_had_explanation\"])\n",
    "X.head()"
   ]
  },
  {
   "cell_type": "code",
   "execution_count": 29,
   "metadata": {
    "execution": {
     "iopub.execute_input": "2020-10-12T18:32:20.234941Z",
     "iopub.status.busy": "2020-10-12T18:32:20.234159Z",
     "iopub.status.idle": "2020-10-12T18:32:20.257676Z",
     "shell.execute_reply": "2020-10-12T18:32:20.256838Z"
    },
    "papermill": {
     "duration": 0.084303,
     "end_time": "2020-10-12T18:32:20.257801",
     "exception": false,
     "start_time": "2020-10-12T18:32:20.173498",
     "status": "completed"
    },
    "tags": []
   },
   "outputs": [],
   "source": [
    "#reading in question df\n",
    "questions_df = pd.read_csv('/kaggle/input/riiid-test-answer-prediction/questions.csv',\n",
    "                            usecols=[0, 3],\n",
    "                            dtype={'question_id': 'int16',\n",
    "                              'part': 'int8'}\n",
    "                          )"
   ]
  },
  {
   "cell_type": "code",
   "execution_count": 30,
   "metadata": {
    "execution": {
     "iopub.execute_input": "2020-10-12T18:32:20.366725Z",
     "iopub.status.busy": "2020-10-12T18:32:20.365919Z",
     "iopub.status.idle": "2020-10-12T18:32:21.654884Z",
     "shell.execute_reply": "2020-10-12T18:32:21.654276Z"
    },
    "papermill": {
     "duration": 1.346963,
     "end_time": "2020-10-12T18:32:21.655019",
     "exception": false,
     "start_time": "2020-10-12T18:32:20.308056",
     "status": "completed"
    },
    "tags": []
   },
   "outputs": [
    {
     "data": {
      "text/plain": [
       "4    2949470\n",
       "1    1154514\n",
       "5     519617\n",
       "3     454899\n",
       "0     274922\n",
       "6     178413\n",
       "2     156817\n",
       "Name: part, dtype: int64"
      ]
     },
     "execution_count": 30,
     "metadata": {},
     "output_type": "execute_result"
    }
   ],
   "source": [
    "X = pd.merge(X, questions_df, left_on = 'content_id', right_on = 'question_id', how = 'left')\n",
    "validation = pd.merge(validation, questions_df, left_on = 'content_id', right_on = 'question_id', how = 'left')\n",
    "X.part = X.part - 1\n",
    "validation.part = validation.part - 1\n",
    "\n",
    "X.part.value_counts()"
   ]
  },
  {
   "cell_type": "code",
   "execution_count": 31,
   "metadata": {
    "execution": {
     "iopub.execute_input": "2020-10-12T18:32:21.763121Z",
     "iopub.status.busy": "2020-10-12T18:32:21.762254Z",
     "iopub.status.idle": "2020-10-12T18:32:22.116197Z",
     "shell.execute_reply": "2020-10-12T18:32:22.115525Z"
    },
    "papermill": {
     "duration": 0.411177,
     "end_time": "2020-10-12T18:32:22.116325",
     "exception": false,
     "start_time": "2020-10-12T18:32:21.705148",
     "status": "completed"
    },
    "tags": []
   },
   "outputs": [],
   "source": [
    "y = X['answered_correctly']\n",
    "X = X.drop(['answered_correctly'], axis=1)\n",
    "X.head()\n",
    "\n",
    "y_val = validation['answered_correctly']\n",
    "X_val = validation.drop(['answered_correctly'], axis=1)"
   ]
  },
  {
   "cell_type": "code",
   "execution_count": 32,
   "metadata": {
    "execution": {
     "iopub.execute_input": "2020-10-12T18:32:22.357207Z",
     "iopub.status.busy": "2020-10-12T18:32:22.284273Z",
     "iopub.status.idle": "2020-10-12T18:32:22.372019Z",
     "shell.execute_reply": "2020-10-12T18:32:22.372678Z"
    },
    "papermill": {
     "duration": 0.205586,
     "end_time": "2020-10-12T18:32:22.372871",
     "exception": false,
     "start_time": "2020-10-12T18:32:22.167285",
     "status": "completed"
    },
    "tags": []
   },
   "outputs": [],
   "source": [
    "X = X[['answered_correctly_user', 'answered_correctly_content', 'sum', 'count',\n",
    "       'prior_question_elapsed_time','prior_question_had_explanation_enc', 'part']]\n",
    "X_val = X_val[['answered_correctly_user', 'answered_correctly_content', 'sum', 'count',\n",
    "       'prior_question_elapsed_time','prior_question_had_explanation_enc', 'part']]"
   ]
  },
  {
   "cell_type": "code",
   "execution_count": 33,
   "metadata": {
    "execution": {
     "iopub.execute_input": "2020-10-12T18:32:22.483338Z",
     "iopub.status.busy": "2020-10-12T18:32:22.482563Z",
     "iopub.status.idle": "2020-10-12T18:32:22.553472Z",
     "shell.execute_reply": "2020-10-12T18:32:22.554134Z"
    },
    "papermill": {
     "duration": 0.130912,
     "end_time": "2020-10-12T18:32:22.554293",
     "exception": false,
     "start_time": "2020-10-12T18:32:22.423381",
     "status": "completed"
    },
    "tags": []
   },
   "outputs": [],
   "source": [
    "\n",
    "# Filling with 0.5 for simplicity; there could likely be a better value\n",
    "X['answered_correctly_user'].fillna(0.5,  inplace=True)\n",
    "X['answered_correctly_content'].fillna(0.5,  inplace=True)\n",
    "\n",
    "X['part'].fillna(4, inplace = True)\n",
    "X['sum'].fillna(0, inplace = True)\n",
    "X['count'].fillna(0, inplace = True)\n",
    "X['prior_question_elapsed_time'].fillna(elapsed_mean, inplace = True)\n",
    "X['prior_question_had_explanation_enc'].fillna(0, inplace = True)\n"
   ]
  },
  {
   "cell_type": "code",
   "execution_count": 34,
   "metadata": {
    "execution": {
     "iopub.execute_input": "2020-10-12T18:32:22.664517Z",
     "iopub.status.busy": "2020-10-12T18:32:22.663758Z",
     "iopub.status.idle": "2020-10-12T18:32:22.691684Z",
     "shell.execute_reply": "2020-10-12T18:32:22.690982Z"
    },
    "papermill": {
     "duration": 0.086704,
     "end_time": "2020-10-12T18:32:22.691840",
     "exception": false,
     "start_time": "2020-10-12T18:32:22.605136",
     "status": "completed"
    },
    "tags": []
   },
   "outputs": [],
   "source": [
    "# Filling with 0.5 for simplicity; there could likely be a better value\n",
    "X_val['answered_correctly_user'].fillna(0.5,  inplace=True)\n",
    "X_val['answered_correctly_content'].fillna(0.5,  inplace=True)\n",
    "\n",
    "X_val['part'].fillna(4, inplace = True)\n",
    "X_val['count'].fillna(0, inplace = True)\n",
    "X_val['sum'].fillna(0, inplace = True)\n",
    "X_val['prior_question_elapsed_time'].fillna(elapsed_mean, inplace = True)\n",
    "X_val['prior_question_had_explanation_enc'].fillna(0, inplace = True)"
   ]
  },
  {
   "cell_type": "markdown",
   "metadata": {
    "papermill": {
     "duration": 0.050341,
     "end_time": "2020-10-12T18:32:22.793508",
     "exception": false,
     "start_time": "2020-10-12T18:32:22.743167",
     "status": "completed"
    },
    "tags": []
   },
   "source": [
    "## Modeling ##"
   ]
  },
  {
   "cell_type": "code",
   "execution_count": 35,
   "metadata": {
    "execution": {
     "iopub.execute_input": "2020-10-12T18:32:22.904160Z",
     "iopub.status.busy": "2020-10-12T18:32:22.903367Z",
     "iopub.status.idle": "2020-10-12T18:32:22.970648Z",
     "shell.execute_reply": "2020-10-12T18:32:22.969996Z"
    },
    "papermill": {
     "duration": 0.125781,
     "end_time": "2020-10-12T18:32:22.970780",
     "exception": false,
     "start_time": "2020-10-12T18:32:22.844999",
     "status": "completed"
    },
    "tags": []
   },
   "outputs": [],
   "source": [
    "import lightgbm as lgb\n",
    "\n",
    "params = {\n",
    "    'objective': 'binary',\n",
    "    'max_bin': 700,\n",
    "    'learning_rate': 0.0175,\n",
    "    'num_leaves': 80\n",
    "}\n",
    "\n",
    "lgb_train = lgb.Dataset(X, y, categorical_feature = ['part', 'prior_question_had_explanation_enc'])\n",
    "lgb_eval = lgb.Dataset(X_val, y_val, categorical_feature = ['part', 'prior_question_had_explanation_enc'], reference=lgb_train)"
   ]
  },
  {
   "cell_type": "code",
   "execution_count": 36,
   "metadata": {
    "execution": {
     "iopub.execute_input": "2020-10-12T18:32:23.082251Z",
     "iopub.status.busy": "2020-10-12T18:32:23.081388Z",
     "iopub.status.idle": "2020-10-12T18:41:35.993327Z",
     "shell.execute_reply": "2020-10-12T18:41:35.994149Z"
    },
    "papermill": {
     "duration": 552.970525,
     "end_time": "2020-10-12T18:41:35.994385",
     "exception": false,
     "start_time": "2020-10-12T18:32:23.023860",
     "status": "completed"
    },
    "tags": []
   },
   "outputs": [
    {
     "name": "stderr",
     "output_type": "stream",
     "text": [
      "/opt/conda/lib/python3.7/site-packages/lightgbm/basic.py:1291: UserWarning: Using categorical_feature in Dataset.\n",
      "  warnings.warn('Using categorical_feature in Dataset.')\n"
     ]
    },
    {
     "name": "stdout",
     "output_type": "stream",
     "text": [
      "Training until validation scores don't improve for 12 rounds\n",
      "[50]\ttraining's binary_logloss: 0.613885\tvalid_1's binary_logloss: 0.630455\n",
      "[100]\ttraining's binary_logloss: 0.597501\tvalid_1's binary_logloss: 0.617506\n",
      "[150]\ttraining's binary_logloss: 0.593094\tvalid_1's binary_logloss: 0.614234\n",
      "[200]\ttraining's binary_logloss: 0.591459\tvalid_1's binary_logloss: 0.612883\n",
      "[250]\ttraining's binary_logloss: 0.590664\tvalid_1's binary_logloss: 0.612151\n",
      "[300]\ttraining's binary_logloss: 0.590152\tvalid_1's binary_logloss: 0.611606\n",
      "[350]\ttraining's binary_logloss: 0.589803\tvalid_1's binary_logloss: 0.611247\n",
      "[400]\ttraining's binary_logloss: 0.58954\tvalid_1's binary_logloss: 0.61108\n",
      "[450]\ttraining's binary_logloss: 0.589368\tvalid_1's binary_logloss: 0.610988\n",
      "[500]\ttraining's binary_logloss: 0.589226\tvalid_1's binary_logloss: 0.610898\n",
      "[550]\ttraining's binary_logloss: 0.589091\tvalid_1's binary_logloss: 0.610829\n",
      "[600]\ttraining's binary_logloss: 0.58898\tvalid_1's binary_logloss: 0.610781\n",
      "[650]\ttraining's binary_logloss: 0.588875\tvalid_1's binary_logloss: 0.610742\n",
      "[700]\ttraining's binary_logloss: 0.588774\tvalid_1's binary_logloss: 0.61071\n",
      "[750]\ttraining's binary_logloss: 0.588674\tvalid_1's binary_logloss: 0.610661\n",
      "[800]\ttraining's binary_logloss: 0.58858\tvalid_1's binary_logloss: 0.610622\n",
      "[850]\ttraining's binary_logloss: 0.588489\tvalid_1's binary_logloss: 0.61059\n",
      "[900]\ttraining's binary_logloss: 0.5884\tvalid_1's binary_logloss: 0.610562\n",
      "[950]\ttraining's binary_logloss: 0.588302\tvalid_1's binary_logloss: 0.610528\n",
      "Early stopping, best iteration is:\n",
      "[977]\ttraining's binary_logloss: 0.588248\tvalid_1's binary_logloss: 0.61051\n"
     ]
    }
   ],
   "source": [
    "model = lgb.train(\n",
    "    params, lgb_train,\n",
    "    valid_sets=[lgb_train, lgb_eval],\n",
    "    verbose_eval=50,\n",
    "    num_boost_round=10000,\n",
    "    early_stopping_rounds=12\n",
    ")"
   ]
  },
  {
   "cell_type": "code",
   "execution_count": 37,
   "metadata": {
    "execution": {
     "iopub.execute_input": "2020-10-12T18:41:36.174663Z",
     "iopub.status.busy": "2020-10-12T18:41:36.173503Z",
     "iopub.status.idle": "2020-10-12T18:42:47.017651Z",
     "shell.execute_reply": "2020-10-12T18:42:47.018296Z"
    },
    "papermill": {
     "duration": 70.949969,
     "end_time": "2020-10-12T18:42:47.018475",
     "exception": false,
     "start_time": "2020-10-12T18:41:36.068506",
     "status": "completed"
    },
    "tags": []
   },
   "outputs": [
    {
     "data": {
      "text/plain": [
       "0.7260482266520388"
      ]
     },
     "execution_count": 37,
     "metadata": {},
     "output_type": "execute_result"
    }
   ],
   "source": [
    "y_pred = model.predict(X_val)\n",
    "y_true = np.array(y_val)\n",
    "roc_auc_score(y_true, y_pred)"
   ]
  },
  {
   "cell_type": "markdown",
   "metadata": {
    "papermill": {
     "duration": 0.060257,
     "end_time": "2020-10-12T18:42:47.139242",
     "exception": false,
     "start_time": "2020-10-12T18:42:47.078985",
     "status": "completed"
    },
    "tags": []
   },
   "source": [
    "## Examining Feature Importance ##"
   ]
  },
  {
   "cell_type": "code",
   "execution_count": 38,
   "metadata": {
    "execution": {
     "iopub.execute_input": "2020-10-12T18:42:47.267118Z",
     "iopub.status.busy": "2020-10-12T18:42:47.266106Z",
     "iopub.status.idle": "2020-10-12T18:42:47.399711Z",
     "shell.execute_reply": "2020-10-12T18:42:47.398818Z"
    },
    "papermill": {
     "duration": 0.199225,
     "end_time": "2020-10-12T18:42:47.399856",
     "exception": false,
     "start_time": "2020-10-12T18:42:47.200631",
     "status": "completed"
    },
    "tags": []
   },
   "outputs": [],
   "source": [
    "import matplotlib.pyplot as plt\n",
    "import seaborn as sns"
   ]
  },
  {
   "cell_type": "code",
   "execution_count": 39,
   "metadata": {
    "execution": {
     "iopub.execute_input": "2020-10-12T18:42:47.528806Z",
     "iopub.status.busy": "2020-10-12T18:42:47.527920Z",
     "iopub.status.idle": "2020-10-12T18:42:47.776719Z",
     "shell.execute_reply": "2020-10-12T18:42:47.775895Z"
    },
    "papermill": {
     "duration": 0.314146,
     "end_time": "2020-10-12T18:42:47.776851",
     "exception": false,
     "start_time": "2020-10-12T18:42:47.462705",
     "status": "completed"
    },
    "tags": []
   },
   "outputs": [
    {
     "data": {
      "image/png": "[encoded data removed]",
      "text/plain": [
       "<Figure size 432x288 with 1 Axes>"
      ]
     },
     "metadata": {
      "needs_background": "light"
     },
     "output_type": "display_data"
    }
   ],
   "source": [
    "#displaying the most important features\n",
    "lgb.plot_importance(model)\n",
    "plt.show()"
   ]
  },
  {
   "cell_type": "markdown",
   "metadata": {
    "papermill": {
     "duration": 0.061288,
     "end_time": "2020-10-12T18:42:47.900137",
     "exception": false,
     "start_time": "2020-10-12T18:42:47.838849",
     "status": "completed"
    },
    "tags": []
   },
   "source": [
    "## Making Predictions for New Data ##"
   ]
  },
  {
   "cell_type": "code",
   "execution_count": 40,
   "metadata": {
    "execution": {
     "iopub.execute_input": "2020-10-12T18:42:48.029704Z",
     "iopub.status.busy": "2020-10-12T18:42:48.028875Z",
     "iopub.status.idle": "2020-10-12T18:42:48.032215Z",
     "shell.execute_reply": "2020-10-12T18:42:48.031426Z"
    },
    "papermill": {
     "duration": 0.07062,
     "end_time": "2020-10-12T18:42:48.032349",
     "exception": false,
     "start_time": "2020-10-12T18:42:47.961729",
     "status": "completed"
    },
    "tags": []
   },
   "outputs": [],
   "source": [
    "iter_test = env.iter_test()"
   ]
  },
  {
   "cell_type": "code",
   "execution_count": 41,
   "metadata": {
    "execution": {
     "iopub.execute_input": "2020-10-12T18:42:48.174757Z",
     "iopub.status.busy": "2020-10-12T18:42:48.173901Z",
     "iopub.status.idle": "2020-10-12T18:42:49.112276Z",
     "shell.execute_reply": "2020-10-12T18:42:49.111472Z"
    },
    "papermill": {
     "duration": 1.016814,
     "end_time": "2020-10-12T18:42:49.112404",
     "exception": false,
     "start_time": "2020-10-12T18:42:48.095590",
     "status": "completed"
    },
    "tags": []
   },
   "outputs": [],
   "source": [
    "for (test_df, sample_prediction_df) in iter_test:\n",
    "    test_df = pd.merge(test_df, questions_df, left_on = 'content_id', right_on = 'question_id', how = 'left')\n",
    "    test_df = pd.merge(test_df, results_u_final, on=['user_id'],  how=\"left\")\n",
    "    test_df = pd.merge(test_df, results_c_final, on=['content_id'],  how=\"left\")\n",
    "    test_df['answered_correctly_user'].fillna(0.5,  inplace=True)\n",
    "    test_df['answered_correctly_content'].fillna(0.5,  inplace=True)\n",
    "    test_df['part'] = test_df.part - 1\n",
    "\n",
    "    test_df['part'].fillna(4, inplace = True)\n",
    "    test_df['sum'].fillna(0, inplace=True)\n",
    "    test_df['count'].fillna(0, inplace=True)\n",
    "    test_df['prior_question_elapsed_time'].fillna(elapsed_mean, inplace = True)\n",
    "    test_df['prior_question_had_explanation'].fillna(False, inplace=True)\n",
    "    test_df[\"prior_question_had_explanation_enc\"] = lb_make.fit_transform(test_df[\"prior_question_had_explanation\"])\n",
    "    test_df['answered_correctly'] =  model.predict(test_df[['answered_correctly_user', 'answered_correctly_content', 'sum', 'count',\n",
    "                                                                  'prior_question_elapsed_time','prior_question_had_explanation_enc', 'part']])\n",
    "    env.predict(test_df.loc[test_df['content_type_id'] == 0, ['row_id', 'answered_correctly']])"
   ]
  }
 ],
 "metadata": {
  "kernelspec": {
   "display_name": "Python 3",
   "language": "python",
   "name": "python3"
  },
  "language_info": {
   "codemirror_mode": {
    "name": "ipython",
    "version": 3
   },
   "file_extension": ".py",
   "mimetype": "text/x-python",
   "name": "python",
   "nbconvert_exporter": "python",
   "pygments_lexer": "ipython3",
   "version": "3.7.6"
  },
  "papermill": {
   "duration": 1313.387252,
   "end_time": "2020-10-12T18:42:49.357127",
   "environment_variables": {},
   "exception": null,
   "input_path": "__notebook__.ipynb",
   "output_path": "__notebook__.ipynb",
   "parameters": {},
   "start_time": "2020-10-12T18:20:55.969875",
   "version": "2.1.0"
  }
 },
 "nbformat": 4,
 "nbformat_minor": 4
}
